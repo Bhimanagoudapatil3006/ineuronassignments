{
 "cells": [
  {
   "cell_type": "markdown",
   "id": "316b91df",
   "metadata": {},
   "source": [
    "Name:Bhimanagouda Patil"
   ]
  },
  {
   "cell_type": "markdown",
   "id": "f4beb990",
   "metadata": {},
   "source": [
    "FSDS-Assignment no.1"
   ]
  },
  {
   "cell_type": "markdown",
   "id": "d15e700a",
   "metadata": {},
   "source": [
    "1.In the below elements which of them are values or an expression? eg:- values can be\n",
    "integer or string and expressions will be mathematical operators.\n",
    "*,\n",
    "&#39;hello&#39;,\n",
    "-87.8,\n",
    "-,\n",
    "/,\n",
    "+,\n",
    "6"
   ]
  },
  {
   "cell_type": "markdown",
   "id": "fc8e7178",
   "metadata": {},
   "source": [
    "ans:- values: ('hello' , -87.8 , 6 ) and  expressions: (* , - , / , +)\n"
   ]
  },
  {
   "cell_type": "markdown",
   "id": "61f88585",
   "metadata": {},
   "source": [
    "2.What is the difference between string and variable?"
   ]
  },
  {
   "cell_type": "markdown",
   "id": "be7f268d",
   "metadata": {},
   "source": [
    "ans:- The difference is that variable is container of the data but string is a data type. "
   ]
  },
  {
   "cell_type": "markdown",
   "id": "c8600aa3",
   "metadata": {},
   "source": [
    "3.Describe three different data types."
   ]
  },
  {
   "cell_type": "markdown",
   "id": "7522aaf4",
   "metadata": {},
   "source": [
    "ans:- Three data types are int,list,str\n",
    "    int: in this data type variable only integer are stored.\n",
    "    list: in this datatype variable we can store array of data , the data can be int,str,and etc.\n",
    "    str: in this datatype variable anything within the quotes are considered as string.\n",
    "    \n"
   ]
  },
  {
   "cell_type": "markdown",
   "id": "c9a1c5ee",
   "metadata": {},
   "source": [
    "4.What is an expression made up of? What do all expressions do?"
   ]
  },
  {
   "cell_type": "markdown",
   "id": "07cb58d4",
   "metadata": {},
   "source": [
    "ans:- An expression is made up of operators and operand which together perform operation."
   ]
  },
  {
   "cell_type": "markdown",
   "id": "2005736a",
   "metadata": {},
   "source": [
    "5.This assignment statements, like spam = 10. What is the difference between an\n",
    "expression and a statement?"
   ]
  },
  {
   "cell_type": "markdown",
   "id": "11d4c9cd",
   "metadata": {},
   "source": [
    "ans:- An expression is operation to be performed given in a statement and statement is a instruction given to computer it may be expression,assignment,and etc."
   ]
  },
  {
   "cell_type": "markdown",
   "id": "61b23ea3",
   "metadata": {},
   "source": [
    "6.After running the following code, what does the variable bacon contain?\n",
    "bacon = 22\n",
    "bacon + 1"
   ]
  },
  {
   "cell_type": "code",
   "execution_count": 2,
   "id": "99775202",
   "metadata": {},
   "outputs": [
    {
     "data": {
      "text/plain": [
       "23"
      ]
     },
     "execution_count": 2,
     "metadata": {},
     "output_type": "execute_result"
    }
   ],
   "source": [
    "bacon = 22\n",
    "bacon + 1"
   ]
  },
  {
   "cell_type": "markdown",
   "id": "eada7ead",
   "metadata": {},
   "source": [
    "ans:- variable bacon still contain 22(bacon = 22)"
   ]
  },
  {
   "cell_type": "markdown",
   "id": "d2756734",
   "metadata": {},
   "source": [
    "7.What should the values of the following two terms be?\n",
    "'spam'+'spamspam'\n",
    "'spam'*3"
   ]
  },
  {
   "cell_type": "code",
   "execution_count": 3,
   "id": "3d97dc12",
   "metadata": {},
   "outputs": [
    {
     "data": {
      "text/plain": [
       "'spamspamspam'"
      ]
     },
     "execution_count": 3,
     "metadata": {},
     "output_type": "execute_result"
    }
   ],
   "source": [
    "'spam'+'spamspam'"
   ]
  },
  {
   "cell_type": "code",
   "execution_count": 4,
   "id": "73d39bb9",
   "metadata": {},
   "outputs": [
    {
     "data": {
      "text/plain": [
       "'spamspamspam'"
      ]
     },
     "execution_count": 4,
     "metadata": {},
     "output_type": "execute_result"
    }
   ],
   "source": [
    "'spam'*3"
   ]
  },
  {
   "cell_type": "markdown",
   "id": "bc6f6bc2",
   "metadata": {},
   "source": [
    "ans:- Here both the values will be same"
   ]
  },
  {
   "cell_type": "markdown",
   "id": "ffb05831",
   "metadata": {},
   "source": [
    "8.Why is eggs a valid variable name while 100 is invalid?"
   ]
  },
  {
   "cell_type": "markdown",
   "id": "30bcd454",
   "metadata": {},
   "source": [
    "ans:- Because in python we cannot name a variable starting with number."
   ]
  },
  {
   "cell_type": "markdown",
   "id": "6a18ad0d",
   "metadata": {},
   "source": [
    "9.What three functions can be used to get the integer, floating-point number, or string\n",
    "version of a value?"
   ]
  },
  {
   "cell_type": "markdown",
   "id": "3832c1dc",
   "metadata": {},
   "source": [
    "ans:- int(),float(),str()"
   ]
  },
  {
   "cell_type": "markdown",
   "id": "c0f3402b",
   "metadata": {},
   "source": [
    "10.Why does this expression cause an error? How can you fix it?\n",
    "\n",
    "'i have eaten' + 99 + 'burritos.'"
   ]
  },
  {
   "cell_type": "markdown",
   "id": "97fdbbdd",
   "metadata": {},
   "source": [
    "ans:- Because we cannot add a string with an integer both are of different datatype."
   ]
  },
  {
   "cell_type": "code",
   "execution_count": 9,
   "id": "bd942524",
   "metadata": {},
   "outputs": [
    {
     "data": {
      "text/plain": [
       "'i have eaten 99 burritos.'"
      ]
     },
     "execution_count": 9,
     "metadata": {},
     "output_type": "execute_result"
    }
   ],
   "source": [
    "'i have eaten' + ' 99 ' + 'burritos.'"
   ]
  },
  {
   "cell_type": "code",
   "execution_count": null,
   "id": "7c1f2407",
   "metadata": {},
   "outputs": [],
   "source": []
  }
 ],
 "metadata": {
  "kernelspec": {
   "display_name": "Python 3 (ipykernel)",
   "language": "python",
   "name": "python3"
  },
  "language_info": {
   "codemirror_mode": {
    "name": "ipython",
    "version": 3
   },
   "file_extension": ".py",
   "mimetype": "text/x-python",
   "name": "python",
   "nbconvert_exporter": "python",
   "pygments_lexer": "ipython3",
   "version": "3.9.12"
  }
 },
 "nbformat": 4,
 "nbformat_minor": 5
}
